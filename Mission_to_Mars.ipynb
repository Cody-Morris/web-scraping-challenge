{
 "cells": [
  {
   "cell_type": "code",
   "execution_count": 1,
   "source": [
    "# !pip install webdriver_manager\n",
    "# !pip install splinter\n",
    "# !pip install lxml\n",
    "# !pip install bs4\n",
    "from bs4 import BeautifulSoup as bs\n",
    "import os\n",
    "import requests\n",
    "import pymongo\n",
    "import pandas as pd\n",
    "from webdriver_manager.chrome import ChromeDriverManager\n",
    "from splinter import Browser\n"
   ],
   "outputs": [],
   "metadata": {}
  },
  {
   "cell_type": "code",
   "execution_count": 2,
   "source": [
    "executable_path = {'executable_path': ChromeDriverManager().install()}\n",
    "browser = Browser('chrome', **executable_path, headless=False)\n",
    "browser.visit('https://redplanetscience.com/')"
   ],
   "outputs": [
    {
     "output_type": "stream",
     "name": "stderr",
     "text": [
      "\n",
      "\n",
      "====== WebDriver manager ======\n",
      "Current google-chrome version is 93.0.4577\n",
      "Get LATEST driver version for 93.0.4577\n",
      "Driver [C:\\Users\\codyc\\.wdm\\drivers\\chromedriver\\win32\\93.0.4577.63\\chromedriver.exe] found in cache\n"
     ]
    }
   ],
   "metadata": {}
  },
  {
   "cell_type": "code",
   "execution_count": 3,
   "source": [
    "html = browser.html"
   ],
   "outputs": [],
   "metadata": {}
  },
  {
   "cell_type": "code",
   "execution_count": 4,
   "source": [
    "soup = bs(html, 'html.parser')\n",
    "    # Retrieve all elements that contain book information\n",
    "titles = soup.find('div', class_=\"content_title\")\n",
    "    \n",
    "cleantitles = []\n",
    "\n",
    "cleantitles.append(titles.text)\n",
    "\n",
    "print(cleantitles) \n",
    "\n"
   ],
   "outputs": [
    {
     "output_type": "stream",
     "name": "stdout",
     "text": [
      "[\"NASA's MAVEN Maps Winds in the Martian Upper Atmosphere that Mirror the Terrain Below and Gives Clues to Martian Climate\"]\n"
     ]
    }
   ],
   "metadata": {}
  },
  {
   "cell_type": "code",
   "execution_count": 5,
   "source": [
    "paras = soup.find('div', class_='article_teaser_body')\n",
    "\n",
    "cleanparas = []\n",
    "\n",
    "cleanparas.append(paras.text)\n",
    "\n",
    "print(cleanparas) \n"
   ],
   "outputs": [
    {
     "output_type": "stream",
     "name": "stdout",
     "text": [
      "['Researchers have created the first map of wind circulation in the upper atmosphere of a planet besides Earth, using data from NASA’s MAVEN spacecraft that were collected during the last two years.']\n"
     ]
    }
   ],
   "metadata": {}
  },
  {
   "cell_type": "code",
   "execution_count": 6,
   "source": [
    "browser.visit('https://spaceimages-mars.com/')\r\n",
    "html = browser.html\r\n",
    "\r\n",
    "soup = bs(html, 'html.parser')\r\n",
    "    # Retrieve all elements that contain book information\r\n",
    "pics = soup.find('img', class_='thumbimg')\r\n",
    "\r\n",
    "cleanpics = []\r\n",
    "\r\n",
    "cleanpics.append(pics['src'])\r\n",
    "\r\n",
    "print(cleanpics) "
   ],
   "outputs": [
    {
     "output_type": "stream",
     "name": "stdout",
     "text": [
      "['image/mars/Icaria Fossae7.jpg']\n"
     ]
    }
   ],
   "metadata": {}
  },
  {
   "cell_type": "code",
   "execution_count": 16,
   "source": [
    "df = pd.read_html('https://galaxyfacts-mars.com/')[0].to_html() \r\n",
    "df= df.replace('\\n','')\r\n",
    "df"
   ],
   "outputs": [
    {
     "output_type": "execute_result",
     "data": {
      "text/plain": [
       "'<table border=\"1\" class=\"dataframe\">  <thead>    <tr style=\"text-align: right;\">      <th></th>      <th>0</th>      <th>1</th>      <th>2</th>    </tr>  </thead>  <tbody>    <tr>      <th>0</th>      <td>Mars - Earth Comparison</td>      <td>Mars</td>      <td>Earth</td>    </tr>    <tr>      <th>1</th>      <td>Diameter:</td>      <td>6,779 km</td>      <td>12,742 km</td>    </tr>    <tr>      <th>2</th>      <td>Mass:</td>      <td>6.39 × 10^23 kg</td>      <td>5.97 × 10^24 kg</td>    </tr>    <tr>      <th>3</th>      <td>Moons:</td>      <td>2</td>      <td>1</td>    </tr>    <tr>      <th>4</th>      <td>Distance from Sun:</td>      <td>227,943,824 km</td>      <td>149,598,262 km</td>    </tr>    <tr>      <th>5</th>      <td>Length of Year:</td>      <td>687 Earth days</td>      <td>365.24 days</td>    </tr>    <tr>      <th>6</th>      <td>Temperature:</td>      <td>-87 to -5 °C</td>      <td>-88 to 58°C</td>    </tr>  </tbody></table>'"
      ]
     },
     "metadata": {},
     "execution_count": 16
    }
   ],
   "metadata": {}
  },
  {
   "cell_type": "code",
   "execution_count": 8,
   "source": [
    "cleanoriginaltitles = []\r\n",
    "cleanoriginalpics = []\r\n",
    "\r\n",
    "for counter in range(4):\r\n",
    "    browser.visit('https://marshemispheres.com/')\r\n",
    "    browser.find_by_css('a.product-item img')[counter].click()\r\n",
    "    html = browser.html\r\n",
    "    soup = bs(html, 'html.parser')\r\n",
    "    # Retrieve all elements that contain book information\r\n",
    "    originalpics = soup.find('a', text='Original')\r\n",
    "    originaltitles = soup.find('h2', class_='title')\r\n",
    "        \r\n",
    "        # for originalpic in originalpics:\r\n",
    "    cleanoriginalpics.append(originalpics['href'])\r\n",
    "\r\n",
    "        # for originaltitle in originaltitles:\r\n",
    "    cleanoriginaltitles.append(originaltitles.text)\r\n",
    "        \r\n",
    "print(cleanoriginalpics)\r\n",
    "print(cleanoriginaltitles) "
   ],
   "outputs": [
    {
     "output_type": "stream",
     "name": "stdout",
     "text": [
      "['images/cerberus_enhanced.tif', 'images/schiaparelli_enhanced.tif', 'images/syrtis_major_enhanced.tif', 'images/valles_marineris_enhanced.tif']\n",
      "['Cerberus Hemisphere Enhanced', 'Schiaparelli Hemisphere Enhanced', 'Syrtis Major Hemisphere Enhanced', 'Valles Marineris Hemisphere Enhanced']\n"
     ]
    }
   ],
   "metadata": {}
  },
  {
   "cell_type": "code",
   "execution_count": 9,
   "source": [
    "hemisphere_image_urls = []\r\n",
    "\r\n",
    "for counter in range(4):\r\n",
    "    hemisphere_image_urls.append({'Titles': cleanoriginaltitles[counter],'img_url': cleanoriginalpics[counter]})\r\n",
    "\r\n",
    "print(hemisphere_image_urls)"
   ],
   "outputs": [
    {
     "output_type": "stream",
     "name": "stdout",
     "text": [
      "[{'Titles': 'Cerberus Hemisphere Enhanced', 'img_url': 'images/cerberus_enhanced.tif'}, {'Titles': 'Schiaparelli Hemisphere Enhanced', 'img_url': 'images/schiaparelli_enhanced.tif'}, {'Titles': 'Syrtis Major Hemisphere Enhanced', 'img_url': 'images/syrtis_major_enhanced.tif'}, {'Titles': 'Valles Marineris Hemisphere Enhanced', 'img_url': 'images/valles_marineris_enhanced.tif'}]\n"
     ]
    }
   ],
   "metadata": {}
  },
  {
   "cell_type": "code",
   "execution_count": 10,
   "source": [
    "data = {\r\n",
    "        'Titles': cleanoriginaltitles,\r\n",
    "        'paragraph': cleanparas,\r\n",
    "        'img_url' : cleanoriginalpics\r\n",
    "    }"
   ],
   "outputs": [],
   "metadata": {}
  },
  {
   "cell_type": "code",
   "execution_count": null,
   "source": [],
   "outputs": [],
   "metadata": {}
  }
 ],
 "metadata": {
  "interpreter": {
   "hash": "83908387c197150ccdb99d99ab91a576a364a62ba6b016da5fcd4544e84c96c1"
  },
  "kernelspec": {
   "display_name": "Python 3",
   "language": "python",
   "name": "python3"
  },
  "language_info": {
   "codemirror_mode": {
    "name": "ipython",
    "version": 3
   },
   "file_extension": ".py",
   "mimetype": "text/x-python",
   "name": "python",
   "nbconvert_exporter": "python",
   "pygments_lexer": "ipython3",
   "version": "3.8.8"
  }
 },
 "nbformat": 4,
 "nbformat_minor": 2
}