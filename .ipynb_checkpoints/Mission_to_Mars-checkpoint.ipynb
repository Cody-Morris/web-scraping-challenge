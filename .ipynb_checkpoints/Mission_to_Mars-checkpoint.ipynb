{
 "cells": [
  {
   "cell_type": "code",
   "execution_count": 1,
   "metadata": {},
   "outputs": [],
   "source": [
    "# !pip install webdriver_manager\n",
    "# !pip install splinter\n",
    "# !pip install lxml\n",
    "# !pip install bs4\n",
    "from bs4 import BeautifulSoup as bs\n",
    "import os\n",
    "import requests\n",
    "import pymongo\n",
    "import pandas as pd\n",
    "from webdriver_manager.chrome import ChromeDriverManager\n",
    "from splinter import Browser\n"
   ]
  },
  {
   "cell_type": "code",
   "execution_count": 2,
   "metadata": {},
   "outputs": [
    {
     "name": "stderr",
     "output_type": "stream",
     "text": [
      "\n",
      "\n",
      "====== WebDriver manager ======\n",
      "Current google-chrome version is 93.0.4577\n",
      "Get LATEST driver version for 93.0.4577\n",
      "Driver [C:\\Users\\codyc\\.wdm\\drivers\\chromedriver\\win32\\93.0.4577.63\\chromedriver.exe] found in cache\n"
     ]
    }
   ],
   "source": [
    "executable_path = {'executable_path': ChromeDriverManager().install()}\n",
    "browser = Browser('chrome', **executable_path, headless=False)\n",
    "browser.visit('https://redplanetscience.com/')"
   ]
  },
  {
   "cell_type": "code",
   "execution_count": 3,
   "metadata": {},
   "outputs": [],
   "source": [
    "html = browser.html"
   ]
  },
  {
   "cell_type": "code",
   "execution_count": 4,
   "metadata": {},
   "outputs": [
    {
     "name": "stdout",
     "output_type": "stream",
     "text": [
      "[\"NASA's Curiosity Rover Finds an Ancient Oasis on Mars\"]\n"
     ]
    }
   ],
   "source": [
    "soup = bs(html, 'html.parser')\n",
    "    # Retrieve all elements that contain book information\n",
    "titles = soup.find('div', class_=\"content_title\")\n",
    "    \n",
    "cleantitles = []\n",
    "\n",
    "cleantitles.append(titles.text)\n",
    "\n",
    "print(cleantitles) \n",
    "\n"
   ]
  },
  {
   "cell_type": "code",
   "execution_count": 6,
   "metadata": {},
   "outputs": [
    {
     "name": "stdout",
     "output_type": "stream",
     "text": [
      "[\"New evidence suggests salty, shallow ponds once dotted a Martian crater — a sign of the planet's drying climate.\"]\n"
     ]
    }
   ],
   "source": [
    "paras = soup.find('div', class_='article_teaser_body')\n",
    "\n",
    "cleanparas = []\n",
    "\n",
    "cleanparas.append(paras.text)\n",
    "\n",
    "print(cleanparas) \n"
   ]
  },
  {
   "cell_type": "code",
   "execution_count": 7,
   "metadata": {},
   "outputs": [
    {
     "name": "stdout",
     "output_type": "stream",
     "text": [
      "['image/mars/Icaria Fossae7.jpg']\n"
     ]
    }
   ],
   "source": [
    "browser.visit('https://spaceimages-mars.com/')\n",
    "html = browser.html\n",
    "\n",
    "soup = bs(html, 'html.parser')\n",
    "    # Retrieve all elements that contain book information\n",
    "pics = soup.find('img', class_='thumbimg')\n",
    "\n",
    "cleanpics = []\n",
    "\n",
    "cleanpics.append(pics['src'])\n",
    "\n",
    "print(cleanpics) "
   ]
  },
  {
   "cell_type": "code",
   "execution_count": 8,
   "metadata": {},
   "outputs": [],
   "source": [
    "df = pd.read_html('https://galaxyfacts-mars.com/')[0].to_html() "
   ]
  },
  {
   "cell_type": "code",
   "execution_count": 10,
   "metadata": {},
   "outputs": [
    {
     "name": "stdout",
     "output_type": "stream",
     "text": [
      "['images/cerberus_enhanced.tif', 'images/schiaparelli_enhanced.tif', 'images/syrtis_major_enhanced.tif', 'images/valles_marineris_enhanced.tif']\n",
      "['Cerberus Hemisphere Enhanced', 'Schiaparelli Hemisphere Enhanced', 'Syrtis Major Hemisphere Enhanced', 'Valles Marineris Hemisphere Enhanced']\n"
     ]
    }
   ],
   "source": [
    "cleanoriginaltitles = []\n",
    "cleanoriginalpics = []\n",
    "\n",
    "for counter in range(4):\n",
    "    browser.visit('https://marshemispheres.com/')\n",
    "    browser.find_by_css('a.product-item img')[counter].click()\n",
    "    html = browser.html\n",
    "    soup = bs(html, 'html.parser')\n",
    "    # Retrieve all elements that contain book information\n",
    "    originalpics = soup.find('a', text='Original')\n",
    "    originaltitles = soup.find('h2', class_='title')\n",
    "        \n",
    "        # for originalpic in originalpics:\n",
    "    cleanoriginalpics.append(originalpics['href'])\n",
    "\n",
    "        # for originaltitle in originaltitles:\n",
    "    cleanoriginaltitles.append(originaltitles.text)\n",
    "        \n",
    "print(cleanoriginalpics)\n",
    "print(cleanoriginaltitles) "
   ]
  },
  {
   "cell_type": "code",
   "execution_count": 11,
   "metadata": {},
   "outputs": [
    {
     "name": "stdout",
     "output_type": "stream",
     "text": [
      "[{'Titles': 'Cerberus Hemisphere Enhanced', 'img_url': 'images/cerberus_enhanced.tif'}, {'Titles': 'Schiaparelli Hemisphere Enhanced', 'img_url': 'images/schiaparelli_enhanced.tif'}, {'Titles': 'Syrtis Major Hemisphere Enhanced', 'img_url': 'images/syrtis_major_enhanced.tif'}, {'Titles': 'Valles Marineris Hemisphere Enhanced', 'img_url': 'images/valles_marineris_enhanced.tif'}]\n"
     ]
    }
   ],
   "source": [
    "hemisphere_image_urls = []\n",
    "\n",
    "for counter in range(4):\n",
    "    hemisphere_image_urls.append({'Titles': cleanoriginaltitles[counter],'img_url': cleanoriginalpics[counter]})\n",
    "\n",
    "print(hemisphere_image_urls)"
   ]
  },
  {
   "cell_type": "code",
   "execution_count": 12,
   "metadata": {},
   "outputs": [],
   "source": [
    "data = {\n",
    "        'Titles': cleanoriginaltitles,\n",
    "        'paragraph': cleanparas,\n",
    "        'img_url' : cleanoriginalpics\n",
    "    }"
   ]
  },
  {
   "cell_type": "code",
   "execution_count": null,
   "metadata": {},
   "outputs": [],
   "source": []
  }
 ],
 "metadata": {
  "interpreter": {
   "hash": "83908387c197150ccdb99d99ab91a576a364a62ba6b016da5fcd4544e84c96c1"
  },
  "kernelspec": {
   "display_name": "Python 3",
   "language": "python",
   "name": "python3"
  },
  "language_info": {
   "codemirror_mode": {
    "name": "ipython",
    "version": 3
   },
   "file_extension": ".py",
   "mimetype": "text/x-python",
   "name": "python",
   "nbconvert_exporter": "python",
   "pygments_lexer": "ipython3",
   "version": "3.8.8"
  }
 },
 "nbformat": 4,
 "nbformat_minor": 2
}
