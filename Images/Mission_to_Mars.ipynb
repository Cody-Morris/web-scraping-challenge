{
 "cells": [
  {
   "cell_type": "code",
   "execution_count": 49,
   "source": [
    "!pip install webdriver_manager\r\n",
    "!pip install splinter\r\n",
    "!pip install lxml\r\n",
    "!pip install bs4\r\n",
    "from bs4 import BeautifulSoup as bs\r\n",
    "import os\r\n",
    "import requests\r\n",
    "import pymongo\r\n",
    "import pandas as pd\r\n",
    "from webdriver_manager.chrome import ChromeDriverManager\r\n",
    "from splinter import Browser\r\n"
   ],
   "outputs": [
    {
     "output_type": "stream",
     "name": "stdout",
     "text": [
      "Requirement already satisfied: webdriver_manager in c:\\users\\codyc\\anaconda3\\lib\\site-packages (3.4.2)\n",
      "Requirement already satisfied: requests in c:\\users\\codyc\\anaconda3\\lib\\site-packages (from webdriver_manager) (2.25.1)\n",
      "Requirement already satisfied: crayons in c:\\users\\codyc\\anaconda3\\lib\\site-packages (from webdriver_manager) (0.4.0)\n",
      "Requirement already satisfied: configparser in c:\\users\\codyc\\anaconda3\\lib\\site-packages (from webdriver_manager) (5.0.2)\n",
      "Requirement already satisfied: colorama in c:\\users\\codyc\\anaconda3\\lib\\site-packages (from crayons->webdriver_manager) (0.4.4)\n",
      "Requirement already satisfied: certifi>=2017.4.17 in c:\\users\\codyc\\anaconda3\\lib\\site-packages (from requests->webdriver_manager) (2020.12.5)\n",
      "Requirement already satisfied: urllib3<1.27,>=1.21.1 in c:\\users\\codyc\\anaconda3\\lib\\site-packages (from requests->webdriver_manager) (1.26.4)\n",
      "Requirement already satisfied: idna<3,>=2.5 in c:\\users\\codyc\\anaconda3\\lib\\site-packages (from requests->webdriver_manager) (2.10)\n",
      "Requirement already satisfied: chardet<5,>=3.0.2 in c:\\users\\codyc\\anaconda3\\lib\\site-packages (from requests->webdriver_manager) (4.0.0)\n",
      "Requirement already satisfied: splinter in c:\\users\\codyc\\anaconda3\\lib\\site-packages (0.15.0)\n",
      "Requirement already satisfied: selenium>=3.141.0 in c:\\users\\codyc\\anaconda3\\lib\\site-packages (from splinter) (3.141.0)\n",
      "Requirement already satisfied: six in c:\\users\\codyc\\anaconda3\\lib\\site-packages (from splinter) (1.15.0)\n",
      "Requirement already satisfied: urllib3 in c:\\users\\codyc\\anaconda3\\lib\\site-packages (from selenium>=3.141.0->splinter) (1.26.4)\n",
      "Requirement already satisfied: lxml in c:\\users\\codyc\\anaconda3\\lib\\site-packages (4.6.3)\n",
      "Requirement already satisfied: bs4 in c:\\users\\codyc\\anaconda3\\lib\\site-packages (0.0.1)\n",
      "Requirement already satisfied: beautifulsoup4 in c:\\users\\codyc\\anaconda3\\lib\\site-packages (from bs4) (4.9.3)\n",
      "Requirement already satisfied: soupsieve>1.2 in c:\\users\\codyc\\anaconda3\\lib\\site-packages (from beautifulsoup4->bs4) (2.2.1)\n"
     ]
    }
   ],
   "metadata": {}
  },
  {
   "cell_type": "code",
   "execution_count": 11,
   "source": [
    "executable_path = {'executable_path': ChromeDriverManager().install()}\r\n",
    "browser = Browser('chrome', **executable_path, headless=False)\r\n",
    "browser.visit('https://redplanetscience.com/')"
   ],
   "outputs": [
    {
     "output_type": "stream",
     "name": "stderr",
     "text": [
      "\n",
      "\n",
      "====== WebDriver manager ======\n",
      "Current google-chrome version is 93.0.4577\n",
      "Get LATEST driver version for 93.0.4577\n",
      "Driver [C:\\Users\\codyc\\.wdm\\drivers\\chromedriver\\win32\\93.0.4577.63\\chromedriver.exe] found in cache\n"
     ]
    }
   ],
   "metadata": {}
  },
  {
   "cell_type": "code",
   "execution_count": 13,
   "source": [
    "html = browser.html"
   ],
   "outputs": [],
   "metadata": {}
  },
  {
   "cell_type": "code",
   "execution_count": 19,
   "source": [
    "soup = bs(html, 'html.parser')\r\n",
    "    # Retrieve all elements that contain book information\r\n",
    "titles = soup.find_all('div', class_='content_title')\r\n",
    "\r\n",
    "cleantitles = []\r\n",
    "\r\n",
    "for title in titles:\r\n",
    "    # print (title.text)\r\n",
    "    cleantitles.append(title.text)\r\n",
    "\r\n",
    "print(cleantitles) \r\n",
    "\r\n"
   ],
   "outputs": [
    {
     "output_type": "stream",
     "name": "stdout",
     "text": [
      "[\"NASA Wins 4 Webbys, 4 People's Voice Awards\", \"What's Mars Solar Conjunction, and Why Does It Matter?\", 'NASA Prepares for Moon and Mars With New Addition to Its Deep Space Network', 'Join NASA for the Launch of the Mars 2020 Perseverance Rover', 'Sensors on Mars 2020 Spacecraft Answer Long-Distance Call From Earth', \"NASA Engineers Checking InSight's Weather Sensors\", \"Newfound Martian Aurora Actually the Most Common; Sheds Light on Mars' Changing Climate\", \"NASA's Curiosity Keeps Rolling As Team Operates Rover From Home\", \"NASA's Curiosity Takes Selfie With 'Mary Anning' on the Red Planet\", \"NASA-JPL Names 'Rolling Stones Rock' on Mars\", 'NASA Wins Two Emmy Awards for Interactive Mission Coverage', \"Q&A with the Student Who Named Ingenuity, NASA's Mars Helicopter\", 'The MarCO Mission Comes to an End', \"NASA's Mars 2020 Rover Goes Coast-to-Coast to Prep for Launch\", \"Mars Helicopter Attached to NASA's Perseverance Rover\"]\n"
     ]
    }
   ],
   "metadata": {}
  },
  {
   "cell_type": "code",
   "execution_count": 21,
   "source": [
    "paras = soup.find_all('div', class_='article_teaser_body')\r\n",
    "\r\n",
    "cleanparas = []\r\n",
    "\r\n",
    "for para in paras:\r\n",
    "    # print (title.text)\r\n",
    "    cleanparas.append(para.text)\r\n",
    "\r\n",
    "print(cleanparas) "
   ],
   "outputs": [
    {
     "output_type": "stream",
     "name": "stdout",
     "text": [
      "['Winners include the JPL-managed \"Send Your Name to Mars\" campaign, NASA\\'s Global Climate Change website and Solar System Interactive.', 'NASA spacecraft at Mars are going to be on their own for a few weeks when the Sun comes between Mars and Earth, interrupting communications.', 'Robotic spacecraft will be able to communicate with the dish using radio waves and lasers.', 'No matter where you live, choose from a menu of activities to join NASA as we \"Countdown to Mars\" and launch the Perseverance rover to the Red Planet.', \"Instruments tailored to collect data during the descent of NASA's next rover through the Red Planet's atmosphere have been checked in flight.\", 'An electronics issue is suspected to be preventing the sensors from sharing their data about Mars weather with the spacecraft.', 'A type of Martian aurora first identified by NASA’s MAVEN spacecraft in 2016 is actually the most common form of aurora occurring on the Red Planet, according to new results from the mission.', 'The team has learned to meet new challenges as they work remotely on the Mars mission.', 'The Mars rover has drilled three samples of rock in this clay-enriched region since arriving in July.', \"NASA's Mars InSight mission honored one of the biggest bands of all time at Pasadena concert.\", \"NASA-JPL's coverage of the Mars InSight landing earns one of the two wins, making this the NASA center's second Emmy.\", 'As a longtime fan of space exploration, Vaneeza Rupani appreciates the creativity and collaboration involved with trying to fly on another planet.', 'The pair of briefcase-sized satellites made history when they sailed past Mars in 2019.', \"The agency's first step in returning rocks from Mars just arrived at Kennedy Space Center. The Mars 2020 team now begins readying for a launch to the Red Planet this July.\", \"The team also fueled the rover's sky crane to get ready for this summer's history-making launch.\"]\n"
     ]
    }
   ],
   "metadata": {}
  },
  {
   "cell_type": "code",
   "execution_count": 24,
   "source": [
    "browser.visit('https://spaceimages-mars.com/')\r\n",
    "html = browser.html\r\n",
    "\r\n",
    "soup = bs(html, 'html.parser')\r\n",
    "    # Retrieve all elements that contain book information\r\n",
    "pics = soup.find_all('img', class_='thumbimg')\r\n",
    "\r\n",
    "cleanpics = []\r\n",
    "\r\n",
    "for pic in pics:\r\n",
    "    # print (title.text)\r\n",
    "    cleanpics.append(pic['src'])\r\n",
    "\r\n",
    "print(cleanpics) "
   ],
   "outputs": [
    {
     "output_type": "stream",
     "name": "stdout",
     "text": [
      "['image/mars/Icaria Fossae7.jpg', 'image/mars/Proctor Crater Dunes 7.jpg', 'image/mars/Icaria Fossae7.jpg', 'image/mars/Proctor Crater Dunes 7.jpg', 'image/mars/Proctor Crater Dunes 7.jpg', 'image/mars/Icaria Fossae7.jpg', 'image/mars/Icaria Fossae.jpg', 'image/mars/Ariadnes Colles4.jpg', 'image/mars/Niger Vallis.jpg', 'image/mars/Proctor Crater Dunes.jpg', 'image/mars/Niger Vallis.jpg', 'image/mars/Daedalia Planum.jpg', 'image/mars/Sirenum Fossae.jpg', 'image/mars/Ariadnes Colles4.jpg', 'image/mars/South Polar Cap.jpg', 'image/mars/Daedalia Planum.jpg', 'image/mars/Ariadnes Colles3.jpg', 'image/mars/Atlantis Chaos.jpg', 'image/mars/Daedalia Planum.jpg', 'image/mars/Icaria Fossae.jpg', 'image/mars/Niger Vallis.jpg', 'image/mars/Proctor Crater Dunes.jpg', 'image/mars/Reull Vallis.jpg', 'image/mars/Ariadnes Colles3.jpg', 'image/mars/Sirenum Fossae.jpg', 'image/mars/South Polar Cap.jpg', 'image/mars/Niger Vallis.jpg', 'image/mars/Daedalia Planum.jpg', 'image/mars/Icaria Fossae.jpg', 'image/mars/Ariadnes Colles4.jpg', 'image/mars/South Polar Cap.jpg', 'image/mars/Daedalia Planum.jpg']\n"
     ]
    }
   ],
   "metadata": {}
  },
  {
   "cell_type": "code",
   "execution_count": 31,
   "source": [
    "df = pd.read_html('https://galaxyfacts-mars.com/') \r\n",
    "df[0]\r\n",
    "# df[1]"
   ],
   "outputs": [
    {
     "output_type": "execute_result",
     "data": {
      "text/html": [
       "<div>\n",
       "<style scoped>\n",
       "    .dataframe tbody tr th:only-of-type {\n",
       "        vertical-align: middle;\n",
       "    }\n",
       "\n",
       "    .dataframe tbody tr th {\n",
       "        vertical-align: top;\n",
       "    }\n",
       "\n",
       "    .dataframe thead th {\n",
       "        text-align: right;\n",
       "    }\n",
       "</style>\n",
       "<table border=\"1\" class=\"dataframe\">\n",
       "  <thead>\n",
       "    <tr style=\"text-align: right;\">\n",
       "      <th></th>\n",
       "      <th>0</th>\n",
       "      <th>1</th>\n",
       "      <th>2</th>\n",
       "    </tr>\n",
       "  </thead>\n",
       "  <tbody>\n",
       "    <tr>\n",
       "      <th>0</th>\n",
       "      <td>Mars - Earth Comparison</td>\n",
       "      <td>Mars</td>\n",
       "      <td>Earth</td>\n",
       "    </tr>\n",
       "    <tr>\n",
       "      <th>1</th>\n",
       "      <td>Diameter:</td>\n",
       "      <td>6,779 km</td>\n",
       "      <td>12,742 km</td>\n",
       "    </tr>\n",
       "    <tr>\n",
       "      <th>2</th>\n",
       "      <td>Mass:</td>\n",
       "      <td>6.39 × 10^23 kg</td>\n",
       "      <td>5.97 × 10^24 kg</td>\n",
       "    </tr>\n",
       "    <tr>\n",
       "      <th>3</th>\n",
       "      <td>Moons:</td>\n",
       "      <td>2</td>\n",
       "      <td>1</td>\n",
       "    </tr>\n",
       "    <tr>\n",
       "      <th>4</th>\n",
       "      <td>Distance from Sun:</td>\n",
       "      <td>227,943,824 km</td>\n",
       "      <td>149,598,262 km</td>\n",
       "    </tr>\n",
       "    <tr>\n",
       "      <th>5</th>\n",
       "      <td>Length of Year:</td>\n",
       "      <td>687 Earth days</td>\n",
       "      <td>365.24 days</td>\n",
       "    </tr>\n",
       "    <tr>\n",
       "      <th>6</th>\n",
       "      <td>Temperature:</td>\n",
       "      <td>-87 to -5 °C</td>\n",
       "      <td>-88 to 58°C</td>\n",
       "    </tr>\n",
       "  </tbody>\n",
       "</table>\n",
       "</div>"
      ],
      "text/plain": [
       "                         0                1                2\n",
       "0  Mars - Earth Comparison             Mars            Earth\n",
       "1                Diameter:         6,779 km        12,742 km\n",
       "2                    Mass:  6.39 × 10^23 kg  5.97 × 10^24 kg\n",
       "3                   Moons:                2                1\n",
       "4       Distance from Sun:   227,943,824 km   149,598,262 km\n",
       "5          Length of Year:   687 Earth days      365.24 days\n",
       "6             Temperature:     -87 to -5 °C      -88 to 58°C"
      ]
     },
     "metadata": {},
     "execution_count": 31
    }
   ],
   "metadata": {}
  },
  {
   "cell_type": "code",
   "execution_count": 42,
   "source": [
    "cleanoriginaltitles = []\r\n",
    "cleanoriginalpics = []\r\n",
    "\r\n",
    "for counter in range(4):\r\n",
    "    browser.visit('https://marshemispheres.com/')\r\n",
    "    browser.find_by_css('a.product-item img')[counter].click()\r\n",
    "    html = browser.html\r\n",
    "    soup = bs(html, 'html.parser')\r\n",
    "    # Retrieve all elements that contain book information\r\n",
    "    originalpics = soup.find_all('a', text='Original')\r\n",
    "    originaltitles = soup.find_all('h2', class_='title')\r\n",
    "    \r\n",
    "    for originalpic in originalpics:\r\n",
    "        cleanoriginalpics.append(originalpic['href'])\r\n",
    "\r\n",
    "    for originaltitle in originaltitles:\r\n",
    "        cleanoriginaltitles.append(originaltitle.text)\r\n",
    "    \r\n",
    "print(cleanoriginalpics)\r\n",
    "print(cleanoriginaltitles) "
   ],
   "outputs": [
    {
     "output_type": "stream",
     "name": "stdout",
     "text": [
      "['images/cerberus_enhanced.tif', 'images/schiaparelli_enhanced.tif', 'images/syrtis_major_enhanced.tif', 'images/valles_marineris_enhanced.tif']\n",
      "['Cerberus Hemisphere Enhanced', 'Schiaparelli Hemisphere Enhanced', 'Syrtis Major Hemisphere Enhanced', 'Valles Marineris Hemisphere Enhanced']\n"
     ]
    }
   ],
   "metadata": {}
  },
  {
   "cell_type": "code",
   "execution_count": 48,
   "source": [
    "hemisphere_image_urls = []\r\n",
    "\r\n",
    "for counter in range(4):\r\n",
    "    hemisphere_image_urls.append({'Titles': cleanoriginaltitles[counter],'img_url': cleanoriginalpics[counter]})\r\n",
    "\r\n",
    "print(hemisphere_image_urls)"
   ],
   "outputs": [
    {
     "output_type": "stream",
     "name": "stdout",
     "text": [
      "[{'Titles': 'Cerberus Hemisphere Enhanced', 'img_url': 'images/cerberus_enhanced.tif'}, {'Titles': 'Schiaparelli Hemisphere Enhanced', 'img_url': 'images/schiaparelli_enhanced.tif'}, {'Titles': 'Syrtis Major Hemisphere Enhanced', 'img_url': 'images/syrtis_major_enhanced.tif'}, {'Titles': 'Valles Marineris Hemisphere Enhanced', 'img_url': 'images/valles_marineris_enhanced.tif'}]\n"
     ]
    }
   ],
   "metadata": {}
  },
  {
   "cell_type": "code",
   "execution_count": 55,
   "source": [
    "conn = 'mongodb://localhost:27017'\r\n",
    "client = pymongo.MongoClient(conn)\r\n",
    "\r\n",
    "for counter in range(4):\r\n",
    "    db = client.Mars_db\r\n",
    "    collection = db.items\r\n",
    "    collection.insert_one(hemisphere_image_urls[counter])\r\n",
    "\r\n",
    "\r\n",
    "\r\n",
    "listings = db.items.find()\r\n",
    "\r\n",
    "for listing in listings:\r\n",
    "    print(listing)"
   ],
   "outputs": [
    {
     "output_type": "stream",
     "name": "stdout",
     "text": [
      "{'_id': ObjectId('613cd21732238fd994c4580a'), 'Titles': 'Cerberus Hemisphere Enhanced', 'img_url': 'images/cerberus_enhanced.tif'}\n",
      "{'_id': ObjectId('613cd2e432238fd994c4580f'), 'Titles': 'Schiaparelli Hemisphere Enhanced', 'img_url': 'images/schiaparelli_enhanced.tif'}\n",
      "{'_id': ObjectId('613cd2e432238fd994c45810'), 'Titles': 'Syrtis Major Hemisphere Enhanced', 'img_url': 'images/syrtis_major_enhanced.tif'}\n",
      "{'_id': ObjectId('613cd23832238fd994c4580c'), 'Titles': 'Valles Marineris Hemisphere Enhanced', 'img_url': 'images/valles_marineris_enhanced.tif'}\n"
     ]
    }
   ],
   "metadata": {}
  },
  {
   "cell_type": "code",
   "execution_count": null,
   "source": [],
   "outputs": [],
   "metadata": {}
  }
 ],
 "metadata": {
  "orig_nbformat": 4,
  "language_info": {
   "name": "python",
   "version": "3.8.8",
   "mimetype": "text/x-python",
   "codemirror_mode": {
    "name": "ipython",
    "version": 3
   },
   "pygments_lexer": "ipython3",
   "nbconvert_exporter": "python",
   "file_extension": ".py"
  },
  "kernelspec": {
   "name": "python3",
   "display_name": "Python 3.8.8 64-bit ('base': conda)"
  },
  "interpreter": {
   "hash": "83908387c197150ccdb99d99ab91a576a364a62ba6b016da5fcd4544e84c96c1"
  }
 },
 "nbformat": 4,
 "nbformat_minor": 2
}